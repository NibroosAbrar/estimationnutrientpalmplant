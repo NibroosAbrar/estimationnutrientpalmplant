{
 "cells": [
  {
   "cell_type": "code",
   "execution_count": 1,
   "metadata": {},
   "outputs": [],
   "source": [
    "import torch\n",
    "import torchvision\n",
    "from torchvision.models.detection import maskrcnn_resnet50_fpn\n",
    "from torchvision.transforms import functional as F\n",
    "import numpy as np\n",
    "import cv2\n",
    "from torch.utils.data import DataLoader, Dataset\n",
    "import os\n",
    "from statistics import median, mean, mode, stdev\n"
   ]
  },
  {
   "cell_type": "code",
   "execution_count": null,
   "metadata": {},
   "outputs": [],
   "source": [
    "class PalmCanopyDataset(Dataset):\n",
    "    def __init__(self, image_paths, mask_paths, transforms=None):\n",
    "        self.image_paths = image_paths\n",
    "        self.mask_paths = mask_paths\n",
    "        self.transforms = transforms\n",
    "\n",
    "    def __getitem__(self, idx):\n",
    "        # Load image (assume it's a multispectral image with 4 channels)\n",
    "        image = cv2.imread(self.image_paths[idx], cv2.IMREAD_UNCHANGED)\n",
    "        \n",
    "        # Load mask (binary mask for palm canopies)\n",
    "        mask = cv2.imread(self.mask_paths[idx], cv2.IMREAD_GRAYSCALE)\n",
    "        \n",
    "        # Convert mask into 0-1 format for training\n",
    "        mask = mask / 255.0\n",
    "        \n",
    "        # Convert mask to tensor format\n",
    "        target = {\n",
    "            \"masks\": torch.as_tensor(mask, dtype=torch.uint8).unsqueeze(0),  # add batch dimension\n",
    "            \"labels\": torch.ones((1,), dtype=torch.int64)  # only one class: palm canopy\n",
    "        }\n",
    "\n",
    "        if self.transforms:\n",
    "            image = self.transforms(image)\n",
    "        \n",
    "        return image, target\n",
    "\n",
    "    def __len__(self):\n",
    "        return len(self.image_paths)\n"
   ]
  }
 ],
 "metadata": {
  "kernelspec": {
   "display_name": "Python 3",
   "language": "python",
   "name": "python3"
  },
  "language_info": {
   "codemirror_mode": {
    "name": "ipython",
    "version": 3
   },
   "file_extension": ".py",
   "mimetype": "text/x-python",
   "name": "python",
   "nbconvert_exporter": "python",
   "pygments_lexer": "ipython3",
   "version": "3.12.5"
  }
 },
 "nbformat": 4,
 "nbformat_minor": 2
}
