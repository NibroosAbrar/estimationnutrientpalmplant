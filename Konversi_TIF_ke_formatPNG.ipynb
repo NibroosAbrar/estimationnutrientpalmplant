{
 "cells": [
  {
   "cell_type": "code",
   "execution_count": null,
   "metadata": {},
   "outputs": [],
   "source": [
    "import cv2\n",
    "import numpy as np\n",
    "\n",
    "# Load multispectral image\n",
    "img = cv2.imread(\"multispectral_image.tif\", -1)  # -1 for reading all channels\n",
    "\n",
    "# Assuming channels are in order [NIR, Red Edge, Red, Green]\n",
    "nir = img[:, :, 0]\n",
    "red_edge = img[:, :, 1]\n",
    "red = img[:, :, 2]\n",
    "green = img[:, :, 3]\n",
    "\n",
    "# Save each channel as separate image if needed\n",
    "cv2.imwrite(\"nir_channel.png\", nir)\n",
    "cv2.imwrite(\"red_edge_channel.png\", red_edge)\n",
    "cv2.imwrite(\"red_channel.png\", red)\n",
    "cv2.imwrite(\"green_channel.png\", green)\n",
    "\n",
    "# Or create an RGB image from the multispectral bands\n",
    "rgb_image = np.stack([red, green, red_edge], axis=-1)\n",
    "cv2.imwrite(\"rgb_image.png\", rgb_image)\n"
   ]
  }
 ],
 "metadata": {
  "language_info": {
   "name": "python"
  }
 },
 "nbformat": 4,
 "nbformat_minor": 2
}
